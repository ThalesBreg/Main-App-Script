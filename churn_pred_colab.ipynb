{
 "cells": [
  {
   "cell_type": "markdown",
   "id": "c896f105",
   "metadata": {},
   "source": [
    "# Análise Preditiva de Churn com Dados do Google Sheets\n",
    "\n",
    "Este notebook lê dados de chamados do Google Sheets, faz uma análise preditiva para identificar risco de churn e grava os resultados em uma nova aba da mesma planilha. Ideal para rodar no Google Colab."
   ]
  },
  {
   "cell_type": "markdown",
   "id": "cd655b90",
   "metadata": {},
   "source": [
    "## Autenticação com Google Sheets\n",
    "\n",
    "Execute a célula abaixo para autenticar sua conta Google e permitir acesso ao Google Sheets."
   ]
  },
  {
   "cell_type": "code",
   "execution_count": null,
   "id": "e39866b1",
   "metadata": {},
   "outputs": [],
   "source": [
    "# Autenticação Google para Google Sheets\n",
    "from google.colab import auth\n",
    "auth.authenticate_user()\n",
    "\n",
    "import gspread\n",
    "from google.auth import default\n",
    "creds, _ = default()\n",
    "gc = gspread.authorize(creds)"
   ]
  },
  {
   "cell_type": "markdown",
   "id": "0789eab2",
   "metadata": {},
   "source": [
    "## Leitura dos Dados do Google Sheets\n",
    "\n",
    "Configure o ID da sua planilha e o nome da aba com os dados de chamados. Os dados serão lidos em um DataFrame pandas."
   ]
  },
  {
   "cell_type": "code",
   "execution_count": 1,
   "id": "a8255ea6",
   "metadata": {},
   "outputs": [
    {
     "ename": "ModuleNotFoundError",
     "evalue": "No module named 'pandas'",
     "output_type": "error",
     "traceback": [
      "\u001b[31m---------------------------------------------------------------------------\u001b[39m",
      "\u001b[31mModuleNotFoundError\u001b[39m                       Traceback (most recent call last)",
      "\u001b[36mCell\u001b[39m\u001b[36m \u001b[39m\u001b[32mIn[1]\u001b[39m\u001b[32m, line 5\u001b[39m\n\u001b[32m      2\u001b[39m SHEET_ID = \u001b[33m'\u001b[39m\u001b[33mCOLE_AQUI_O_ID_DA_PLANILHA\u001b[39m\u001b[33m'\u001b[39m\n\u001b[32m      3\u001b[39m SHEET_NAME = \u001b[33m'\u001b[39m\u001b[33mchamados\u001b[39m\u001b[33m'\u001b[39m  \u001b[38;5;66;03m# Nome da aba com os dados\u001b[39;00m\n\u001b[32m----> \u001b[39m\u001b[32m5\u001b[39m \u001b[38;5;28;01mimport\u001b[39;00m\u001b[38;5;250m \u001b[39m\u001b[34;01mpandas\u001b[39;00m\u001b[38;5;250m \u001b[39m\u001b[38;5;28;01mas\u001b[39;00m\u001b[38;5;250m \u001b[39m\u001b[34;01mpd\u001b[39;00m\n\u001b[32m      6\u001b[39m worksheet = gc.open_by_key(SHEET_ID).worksheet(SHEET_NAME)\n\u001b[32m      7\u001b[39m data = worksheet.get_all_records()\n",
      "\u001b[31mModuleNotFoundError\u001b[39m: No module named 'pandas'"
     ]
    }
   ],
   "source": [
    "# Substitua pelos seus dados\n",
    "SHEET_ID = 'COLE_AQUI_O_ID_DA_PLANILHA'\n",
    "SHEET_NAME = 'chamados'  # Nome da aba com os dados\n",
    "\n",
    "import pandas as pd\n",
    "worksheet = gc.open_by_key(SHEET_ID).worksheet(SHEET_NAME)\n",
    "data = worksheet.get_all_records()\n",
    "df = pd.DataFrame(data)\n",
    "df.head()"
   ]
  },
  {
   "cell_type": "markdown",
   "id": "b382e2da",
   "metadata": {},
   "source": [
    "## Análise Exploratória dos Dados\n",
    "\n",
    "Visualize as principais estatísticas e distribuições dos chamados para entender o comportamento dos dados."
   ]
  },
  {
   "cell_type": "code",
   "execution_count": null,
   "id": "ef5090b9",
   "metadata": {},
   "outputs": [],
   "source": [
    "# Estatísticas básicas\n",
    "df.describe()\n",
    "\n",
    "# Distribuição de churn (se houver coluna 'churn')\n",
    "if 'churn' in df.columns:\n",
    "    print(df['churn'].value_counts())\n",
    "    df['churn'].value_counts().plot(kind='bar', title='Distribuição de Churn')"
   ]
  },
  {
   "cell_type": "markdown",
   "id": "ac74924f",
   "metadata": {},
   "source": [
    "## Treinamento do Modelo Preditivo\n",
    "\n",
    "Aqui vamos preparar os dados e treinar um modelo simples para prever churn com base nos chamados."
   ]
  },
  {
   "cell_type": "code",
   "execution_count": null,
   "id": "b65950c1",
   "metadata": {},
   "outputs": [],
   "source": [
    "# Exemplo: Treinando um modelo de classificação simples\n",
    "from sklearn.model_selection import train_test_split\n",
    "from sklearn.ensemble import RandomForestClassifier\n",
    "from sklearn.metrics import classification_report\n",
    "\n",
    "# Supondo que 'churn' seja a coluna alvo e o resto são features\n",
    "if 'churn' in df.columns:\n",
    "    X = df.drop(['churn', 'id'], axis=1, errors='ignore')\n",
    "    y = df['churn']\n",
    "    X_train, X_test, y_train, y_test = train_test_split(X, y, test_size=0.2, random_state=42)\n",
    "    model = RandomForestClassifier()\n",
    "    model.fit(X_train, y_train)\n",
    "    y_pred = model.predict(X_test)\n",
    "    print(classification_report(y_test, y_pred))"
   ]
  },
  {
   "cell_type": "markdown",
   "id": "12bf71a1",
   "metadata": {},
   "source": [
    "## Gerar Lista de IDs de Chamados com Alto Risco de Churn\n",
    "\n",
    "Aqui vamos identificar os chamados com maior probabilidade de churn e salvar os IDs para uso no Apps Script."
   ]
  },
  {
   "cell_type": "code",
   "execution_count": null,
   "id": "7feeccf9",
   "metadata": {},
   "outputs": [],
   "source": [
    "# Exemplo: IDs com maior probabilidade de churn\n",
    "if 'churn' in df.columns:\n",
    "    # Supondo que o modelo foi treinado e temos X para todos os dados\n",
    "    if 'id' in df.columns:\n",
    "        probs = model.predict_proba(X)[:,1]\n",
    "        df['churn_prob'] = probs\n",
    "        high_risk = df[df['churn_prob'] > 0.7]  # Ajuste o threshold conforme necessário\n",
    "        ids_high_risk = high_risk['id'].tolist()\n",
    "        print(f'Chamados de alto risco: {ids_high_risk}')\n",
    "        # Salvar em nova aba\n",
    "        sh = gc.open_by_key(SHEET_ID)\n",
    "        try:\n",
    "            sh.add_worksheet(title='alto_risco', rows=len(ids_high_risk)+1, cols=2)\n",
    "        except:\n",
    "            pass  # Aba já existe\n",
    "        ws_risk = sh.worksheet('alto_risco')\n",
    "        ws_risk.clear()\n",
    "        ws_risk.append_row(['id', 'churn_prob'])\n",
    "        for _, row in high_risk.iterrows():\n",
    "            ws_risk.append_row([row['id'], row['churn_prob']])"
   ]
  },
  {
   "cell_type": "markdown",
   "id": "e36ae7d3",
   "metadata": {},
   "source": [
    "## Próximos Passos: Usando os Resultados no Apps Script\n",
    "\n",
    "Agora, utilize a aba `alto_risco` da sua planilha Google para que o Apps Script envie alertas apenas para os chamados identificados como alto risco e recentes."
   ]
  }
 ],
 "metadata": {
  "kernelspec": {
   "display_name": ".venv (3.13.6)",
   "language": "python",
   "name": "python3"
  },
  "language_info": {
   "codemirror_mode": {
    "name": "ipython",
    "version": 3
   },
   "file_extension": ".py",
   "mimetype": "text/x-python",
   "name": "python",
   "nbconvert_exporter": "python",
   "pygments_lexer": "ipython3",
   "version": "3.13.6"
  }
 },
 "nbformat": 4,
 "nbformat_minor": 5
}
